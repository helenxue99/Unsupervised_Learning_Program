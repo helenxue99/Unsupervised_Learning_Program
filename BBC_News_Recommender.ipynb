{
 "cells": [
  {
   "cell_type": "markdown",
   "metadata": {},
   "source": [
    "# BBC News Article Recommender  System\n",
    " "
   ]
  },
  {
   "cell_type": "markdown",
   "metadata": {},
   "source": [
    "## 1. Purpose\n",
    "\n",
    "As we learned and do a lot of exercise on this Unsuperisor learning course, like recommender  system and News Article category. But I am thinking about in the real world, while we surf on internet and read a news article, the system cannot get our personal privacy data, so mostly for a news system they need a recommender system on content base. \n",
    "\n",
    "On Week4 we did the BBC News catgory programming, is there a way we can do a recommender system for BBC News Article"
   ]
  },
  {
   "cell_type": "code",
   "execution_count": 1,
   "metadata": {},
   "outputs": [],
   "source": [
    "import numpy as np # linear algebra\n",
    "import pandas as pd # data processing, CSV file I/O (e.g. pd.read_csv)\n",
    "import matplotlib.pyplot as plt\n",
    " \n",
    "import os"
   ]
  },
  {
   "cell_type": "markdown",
   "metadata": {},
   "source": [
    "## 2. Load BBC Articles Data"
   ]
  },
  {
   "cell_type": "code",
   "execution_count": 2,
   "metadata": {},
   "outputs": [],
   "source": [
    "data_train = pd.read_csv('E:\\\\University of Colorado Boulder\\\\12- Unsupevised Algorithms in Machine Learning\\\\Week4\\\\learn-ai-bbc\\\\BBC News Train.csv', delimiter=',')"
   ]
  },
  {
   "cell_type": "markdown",
   "metadata": {},
   "source": [
    "## 3. Extracting word features and show Exploratory Data Analysis (EDA)"
   ]
  },
  {
   "cell_type": "code",
   "execution_count": 3,
   "metadata": {},
   "outputs": [
    {
     "name": "stdout",
     "output_type": "stream",
     "text": [
      "<class 'pandas.core.frame.DataFrame'>\n",
      "RangeIndex: 1490 entries, 0 to 1489\n",
      "Data columns (total 3 columns):\n",
      " #   Column     Non-Null Count  Dtype \n",
      "---  ------     --------------  ----- \n",
      " 0   ArticleId  1490 non-null   int64 \n",
      " 1   Text       1490 non-null   object\n",
      " 2   Category   1490 non-null   object\n",
      "dtypes: int64(1), object(2)\n",
      "memory usage: 35.0+ KB\n",
      "None\n",
      "   ArticleId                                               Text  Category\n",
      "0       1833  worldcom ex-boss launches defence lawyers defe...  business\n",
      "1        154  german business confidence slides german busin...  business\n",
      "2       1101  bbc poll indicates economic gloom citizens in ...  business\n",
      "3       1976  lifestyle  governs mobile choice  faster  bett...      tech\n",
      "4        917  enron bosses in $168m payout eighteen former e...  business\n"
     ]
    }
   ],
   "source": [
    "print(data_train.info())\n",
    "print(data_train.head())"
   ]
  },
  {
   "cell_type": "code",
   "execution_count": 4,
   "metadata": {},
   "outputs": [
    {
     "name": "stdout",
     "output_type": "stream",
     "text": [
      "                                                     Text Category\n",
      "count                                                1490     1490\n",
      "unique                                               1440        5\n",
      "top     queen recruit singer for new tour the remainin...    sport\n",
      "freq                                                    2      346\n"
     ]
    }
   ],
   "source": [
    "print(data_train.describe(include = 'object'))"
   ]
  },
  {
   "cell_type": "code",
   "execution_count": 5,
   "metadata": {},
   "outputs": [
    {
     "name": "stdout",
     "output_type": "stream",
     "text": [
      "Total observations  1490\n",
      "Total Count of Unique Article IDs  1490\n"
     ]
    }
   ],
   "source": [
    "print(\"Total observations \", len(data_train))\n",
    "print(\"Total Count of Unique Article IDs \", len(data_train['ArticleId'].unique()))"
   ]
  },
  {
   "cell_type": "code",
   "execution_count": 6,
   "metadata": {},
   "outputs": [
    {
     "name": "stdout",
     "output_type": "stream",
     "text": [
      "Tech the smallest category makes up this percentage: 0.175\n",
      "Sport the largest category makes up this percentage: 0.232\n"
     ]
    },
    {
     "data": {
      "image/png": "[encoded data removed]",
      "text/plain": [
       "<Figure size 432x288 with 1 Axes>"
      ]
     },
     "metadata": {
      "needs_background": "light"
     },
     "output_type": "display_data"
    }
   ],
   "source": [
    "plt.hist(data_train['Category'])\n",
    "plt.title(\"Histogram of Training Data Categories\")\n",
    "print(\"Tech the smallest category makes up this percentage:\", round(len(data_train[data_train['Category'] == 'tech'])/ len(data_train),3))\n",
    "print(\"Sport the largest category makes up this percentage:\", round(len(data_train[data_train['Category'] == 'sport'])/ len(data_train),3))\n",
    "categories = data_train['Category'].unique()"
   ]
  },
  {
   "cell_type": "code",
   "execution_count": 7,
   "metadata": {},
   "outputs": [
    {
     "name": "stdout",
     "output_type": "stream",
     "text": [
      "295\n",
      "Smallest Article  90\n",
      "Largest Article  3345\n"
     ]
    },
    {
     "data": {
      "image/png": "[encoded data removed]",
      "text/plain": [
       "<Figure size 432x288 with 1 Axes>"
      ]
     },
     "metadata": {
      "needs_background": "light"
     },
     "output_type": "display_data"
    }
   ],
   "source": [
    "a = []\n",
    "for txt in data_train['Text']:\n",
    "    a.append(len(txt.split()))\n",
    "\n",
    "print(len(txt.split()) )\n",
    "plt.hist(a)\n",
    "plt.title(\"Word Count\")\n",
    "print(\"Smallest Article \", min(a))\n",
    "print(\"Largest Article \" , max(a))"
   ]
  },
  {
   "cell_type": "code",
   "execution_count": 8,
   "metadata": {},
   "outputs": [
    {
     "data": {
      "text/plain": [
       "ArticleId    0\n",
       "Text         0\n",
       "Category     0\n",
       "dtype: int64"
      ]
     },
     "execution_count": 8,
     "metadata": {},
     "output_type": "execute_result"
    }
   ],
   "source": [
    "data_train.isna().sum()"
   ]
  },
  {
   "cell_type": "code",
   "execution_count": 9,
   "metadata": {},
   "outputs": [
    {
     "data": {
      "text/plain": [
       "sport            346\n",
       "business         336\n",
       "politics         274\n",
       "entertainment    273\n",
       "tech             261\n",
       "Name: Category, dtype: int64"
      ]
     },
     "execution_count": 9,
     "metadata": {},
     "output_type": "execute_result"
    }
   ],
   "source": [
    "data_train['Category'].value_counts()"
   ]
  },
  {
   "cell_type": "code",
   "execution_count": 10,
   "metadata": {},
   "outputs": [
    {
     "name": "stdout",
     "output_type": "stream",
     "text": [
      "['business' 'tech' 'politics' 'sport' 'entertainment']\n"
     ]
    }
   ],
   "source": [
    "target_category = data_train['Category'].unique()\n",
    "print(target_category)"
   ]
  },
  {
   "cell_type": "code",
   "execution_count": 11,
   "metadata": {},
   "outputs": [
    {
     "data": {
      "image/png": "[encoded data removed]",
      "text/plain": [
       "<Figure size 720x432 with 1 Axes>"
      ]
     },
     "metadata": {
      "needs_background": "light"
     },
     "output_type": "display_data"
    }
   ],
   "source": [
    "news_cat = data_train['Category'].value_counts()\n",
    "\n",
    "plt.figure(figsize=(10,6))\n",
    "my_colors = ['r','g','c','m','b']\n",
    "news_cat.plot(kind='bar', color=my_colors)\n",
    "plt.grid()\n",
    "plt.xlabel(\"News Categories\")\n",
    "plt.ylabel(\"Datapoints Per Category\")\n",
    "plt.title(\"Distribution of Datapoints Per Category\")\n",
    "plt.show()"
   ]
  },
  {
   "cell_type": "markdown",
   "metadata": {},
   "source": [
    "# 4. Clean Data"
   ]
  },
  {
   "cell_type": "code",
   "execution_count": 12,
   "metadata": {},
   "outputs": [
    {
     "name": "stdout",
     "output_type": "stream",
     "text": [
      "ArticleId    0\n",
      "Text         0\n",
      "Category     0\n",
      "dtype: int64\n"
     ]
    },
    {
     "data": {
      "text/plain": [
       "ArticleId    0\n",
       "Text         0\n",
       "Category     0\n",
       "dtype: int64"
      ]
     },
     "execution_count": 12,
     "metadata": {},
     "output_type": "execute_result"
    }
   ],
   "source": [
    "print(data_train.isna().sum())\n",
    "# data_train =data_train.fillna(0)       \n",
    "# data_train[[  'website','title' ,'content']] = data_train[[ 'website','title' ,'content']].fillna(value=0)\n",
    "data_train[[   'Text' ,'Category']] = data_train[[ 'Text' ,'Category']].fillna(value='')\n",
    "data_train.isna().sum()"
   ]
  },
  {
   "cell_type": "code",
   "execution_count": 13,
   "metadata": {},
   "outputs": [
    {
     "name": "stdout",
     "output_type": "stream",
     "text": [
      "0       worldcom ex-boss launches defence lawyers defe...\n",
      "1       german business confidence slides german busin...\n",
      "2       bbc poll indicates economic gloom citizens in ...\n",
      "3       lifestyle  governs mobile choice  faster  bett...\n",
      "4       enron bosses in $168m payout eighteen former e...\n",
      "                              ...                        \n",
      "1485    double eviction from big brother model caprice...\n",
      "1486    dj double act revamp chart show dj duo jk and ...\n",
      "1487    weak dollar hits reuters revenues at media gro...\n",
      "1488    apple ipod family expands market apple has exp...\n",
      "1489    santy worm makes unwelcome visit thousands of ...\n",
      "Name: Text, Length: 1490, dtype: object\n"
     ]
    }
   ],
   "source": [
    "#lowercase\n",
    "data_train['Text'] = data_train.Text.apply(lambda x: x.lower())\n",
    "data_train['Category'] = data_train['Category'].astype(str)\n",
    "data_train['Category'] = data_train.Category.apply(lambda x: x.lower())\n",
    "print(data_train['Text']) "
   ]
  },
  {
   "cell_type": "code",
   "execution_count": 14,
   "metadata": {},
   "outputs": [],
   "source": [
    "import string\n",
    "table = str.maketrans(\"\", \"\", string.punctuation)\n",
    "def remove_punc(text):\n",
    "    return text.translate(table)"
   ]
  },
  {
   "cell_type": "code",
   "execution_count": 15,
   "metadata": {},
   "outputs": [
    {
     "data": {
      "text/html": [
       "<div>\n",
       "<style scoped>\n",
       "    .dataframe tbody tr th:only-of-type {\n",
       "        vertical-align: middle;\n",
       "    }\n",
       "\n",
       "    .dataframe tbody tr th {\n",
       "        vertical-align: top;\n",
       "    }\n",
       "\n",
       "    .dataframe thead th {\n",
       "        text-align: right;\n",
       "    }\n",
       "</style>\n",
       "<table border=\"1\" class=\"dataframe\">\n",
       "  <thead>\n",
       "    <tr style=\"text-align: right;\">\n",
       "      <th></th>\n",
       "      <th>ArticleId</th>\n",
       "      <th>Text</th>\n",
       "      <th>Category</th>\n",
       "    </tr>\n",
       "  </thead>\n",
       "  <tbody>\n",
       "    <tr>\n",
       "      <th>0</th>\n",
       "      <td>1833</td>\n",
       "      <td>worldcom exboss launches defence lawyers defen...</td>\n",
       "      <td>business</td>\n",
       "    </tr>\n",
       "    <tr>\n",
       "      <th>1</th>\n",
       "      <td>154</td>\n",
       "      <td>german business confidence slides german busin...</td>\n",
       "      <td>business</td>\n",
       "    </tr>\n",
       "  </tbody>\n",
       "</table>\n",
       "</div>"
      ],
      "text/plain": [
       "   ArticleId                                               Text  Category\n",
       "0       1833  worldcom exboss launches defence lawyers defen...  business\n",
       "1        154  german business confidence slides german busin...  business"
      ]
     },
     "execution_count": 15,
     "metadata": {},
     "output_type": "execute_result"
    }
   ],
   "source": [
    "data_train['Text'] = data_train.Text.apply(lambda x: remove_punc(x))\n",
    "data_train['Category'] = data_train.Category.apply(lambda x: remove_punc(x))\n",
    " \n",
    "data_train.head(2)"
   ]
  },
  {
   "cell_type": "code",
   "execution_count": 16,
   "metadata": {},
   "outputs": [],
   "source": [
    "#Remove stopwords\n",
    "\n",
    "from nltk.corpus import stopwords\n",
    "\n",
    "stop = set(stopwords.words(\"english\"))\n",
    "\n",
    "def rem_stop(text):\n",
    "    word_list = [word for word in text.split() if word not in stop]\n",
    "    return \" \".join(word_list)"
   ]
  },
  {
   "cell_type": "code",
   "execution_count": 17,
   "metadata": {},
   "outputs": [
    {
     "data": {
      "text/html": [
       "<div>\n",
       "<style scoped>\n",
       "    .dataframe tbody tr th:only-of-type {\n",
       "        vertical-align: middle;\n",
       "    }\n",
       "\n",
       "    .dataframe tbody tr th {\n",
       "        vertical-align: top;\n",
       "    }\n",
       "\n",
       "    .dataframe thead th {\n",
       "        text-align: right;\n",
       "    }\n",
       "</style>\n",
       "<table border=\"1\" class=\"dataframe\">\n",
       "  <thead>\n",
       "    <tr style=\"text-align: right;\">\n",
       "      <th></th>\n",
       "      <th>ArticleId</th>\n",
       "      <th>Text</th>\n",
       "      <th>Category</th>\n",
       "    </tr>\n",
       "  </thead>\n",
       "  <tbody>\n",
       "    <tr>\n",
       "      <th>0</th>\n",
       "      <td>1833</td>\n",
       "      <td>worldcom exboss launches defence lawyers defen...</td>\n",
       "      <td>business</td>\n",
       "    </tr>\n",
       "    <tr>\n",
       "      <th>1</th>\n",
       "      <td>154</td>\n",
       "      <td>german business confidence slides german busin...</td>\n",
       "      <td>business</td>\n",
       "    </tr>\n",
       "  </tbody>\n",
       "</table>\n",
       "</div>"
      ],
      "text/plain": [
       "   ArticleId                                               Text  Category\n",
       "0       1833  worldcom exboss launches defence lawyers defen...  business\n",
       "1        154  german business confidence slides german busin...  business"
      ]
     },
     "execution_count": 17,
     "metadata": {},
     "output_type": "execute_result"
    }
   ],
   "source": [
    "data_train['Text'] = data_train.Text.apply(lambda x: rem_stop(x))\n",
    "data_train['Category'] = data_train.Category.apply(lambda x: rem_stop(x))\n",
    " \n",
    "data_train.head(2)"
   ]
  },
  {
   "cell_type": "code",
   "execution_count": 18,
   "metadata": {},
   "outputs": [
    {
     "name": "stdout",
     "output_type": "stream",
     "text": [
      "173\n",
      "Smallest Article  48\n",
      "Largest Article  1695\n"
     ]
    },
    {
     "data": {
      "image/png": "[encoded data removed]",
      "text/plain": [
       "<Figure size 432x288 with 1 Axes>"
      ]
     },
     "metadata": {
      "needs_background": "light"
     },
     "output_type": "display_data"
    }
   ],
   "source": [
    "a = []\n",
    "for txt in data_train['Text']:\n",
    "    a.append(len(txt.split()))\n",
    "\n",
    "print(len(txt.split()) )\n",
    "plt.hist(a)\n",
    "plt.title(\"Word Count\")\n",
    "print(\"Smallest Article \", min(a))\n",
    "print(\"Largest Article \" , max(a))"
   ]
  },
  {
   "cell_type": "code",
   "execution_count": 19,
   "metadata": {},
   "outputs": [],
   "source": [
    "# # Convert a collection of raw documents to a matrix of TF-IDF features\n",
    "# from sklearn.decomposition import NMF \n",
    " \n",
    "# from sklearn.feature_extraction.text import TfidfVectorizer\n",
    "# tfidvec = TfidfVectorizer(min_df = 2,\n",
    "#                           max_df = 0.95,\n",
    "#                           norm = 'l2',\n",
    "#                           stop_words = 'english')\n",
    "# tfidvec_train = tfidvec.fit_transform(data_train['Text'] )\n"
   ]
  },
  {
   "cell_type": "markdown",
   "metadata": {},
   "source": [
    "## 5. Bag of Words"
   ]
  },
  {
   "cell_type": "code",
   "execution_count": 20,
   "metadata": {},
   "outputs": [],
   "source": [
    "from sklearn.feature_extraction.text import CountVectorizer\n",
    "bow = CountVectorizer()\n",
    "bowmatrix = bow.fit_transform(data_train['Text']).toarray()"
   ]
  },
  {
   "cell_type": "code",
   "execution_count": 21,
   "metadata": {},
   "outputs": [
    {
     "name": "stdout",
     "output_type": "stream",
     "text": [
      "(1490, 27105)\n"
     ]
    }
   ],
   "source": [
    "print(bowmatrix.shape)"
   ]
  },
  {
   "cell_type": "markdown",
   "metadata": {},
   "source": [
    "## 6. Recommender (Content based)"
   ]
  },
  {
   "cell_type": "markdown",
   "metadata": {},
   "source": [
    "## 6.1 cosine_similarity"
   ]
  },
  {
   "cell_type": "code",
   "execution_count": 22,
   "metadata": {},
   "outputs": [],
   "source": [
    "from sklearn.neighbors import NearestNeighbors\n",
    "from sklearn.metrics.pairwise import cosine_similarity\n",
    "nn = NearestNeighbors()\n",
    "score = cosine_similarity(bowmatrix)"
   ]
  },
  {
   "cell_type": "code",
   "execution_count": 23,
   "metadata": {},
   "outputs": [
    {
     "name": "stdout",
     "output_type": "stream",
     "text": [
      "[[1.         0.09598577 0.0720711  ... 0.12936484 0.10597533 0.05776981]\n",
      " [0.09598577 1.         0.19346739 ... 0.19909945 0.11120573 0.06668313]\n",
      " [0.0720711  0.19346739 1.         ... 0.12654858 0.142628   0.07379379]\n",
      " ...\n",
      " [0.12936484 0.19909945 0.12654858 ... 1.         0.16020243 0.05841693]\n",
      " [0.10597533 0.11120573 0.142628   ... 0.16020243 1.         0.05438067]\n",
      " [0.05776981 0.06668313 0.07379379 ... 0.05841693 0.05438067 1.        ]]\n"
     ]
    }
   ],
   "source": [
    "print(score)"
   ]
  },
  {
   "cell_type": "code",
   "execution_count": 24,
   "metadata": {},
   "outputs": [],
   "source": [
    "def Neighbor_by_cosine(article):\n",
    "    row_num = data_train[data_train['ArticleId'] == article].index.values[0] #getting the index of the article\n",
    "    similarity_score = list(enumerate(score[row_num])) #similar articles\n",
    "    sorted_score = sorted(similarity_score, key=lambda x:x[1], reverse= True)[1:6] #sorting similar articles and returning the first 5\n",
    "    print('Current Article:',data_train.iloc[row_num])\n",
    "    i = 0\n",
    "    print('Cosine Recommend Article:')\n",
    "    recommendations =[]\n",
    "    for item in sorted_score:\n",
    " \n",
    "        print(data_train.iloc[data_train.index == item[0]])\n",
    "        article_id = data_train[data_train.index == item[0]][\"ArticleId\"].values[0] #getting the article title\n",
    "        category = data_train[data_train.index == item[0]][\"Category\"].values[0] #getting the article title\n",
    "        Text = data_train[data_train.index == item[0]][\"Text\"].values[0] #getting the article title\n",
    "        recommendations.append([i+1,article_id, category]) \n",
    " \n",
    "        i = i + 1\n",
    "    return recommendations #returns the 5 nearest article titles"
   ]
  },
  {
   "cell_type": "markdown",
   "metadata": {},
   "source": [
    "## 6.2 Jaccard_similarity"
   ]
  },
  {
   "cell_type": "code",
   "execution_count": 25,
   "metadata": {},
   "outputs": [
    {
     "name": "stderr",
     "output_type": "stream",
     "text": [
      "C:\\ProgramData\\Anaconda3\\lib\\site-packages\\sklearn\\metrics\\pairwise.py:1765: DataConversionWarning: Data was converted to boolean for metric jaccard\n",
      "  warnings.warn(msg, DataConversionWarning)\n"
     ]
    }
   ],
   "source": [
    "#  Use Jaccard to get the similar article\n",
    "from sklearn.metrics.pairwise import pairwise_distances \n",
    "jaccard = pairwise_distances(bowmatrix, bowmatrix, metric=\"jaccard\", n_jobs=-1)\n",
    "jaccard = 1 - jaccard"
   ]
  },
  {
   "cell_type": "code",
   "execution_count": 26,
   "metadata": {},
   "outputs": [],
   "source": [
    "def Neighbor_by_jaccard(article):\n",
    "    row_num = data_train[data_train['ArticleId'] == article].index.values[0] #getting the index of the article\n",
    "    similarity_score = list(enumerate(jaccard[row_num])) #similar articles\n",
    "    sorted_score = sorted(similarity_score, key=lambda x:x[1], reverse= True)[1:6] #sorting similar articles and returning the first 5\n",
    "    print('Current Article:',data_train.iloc[row_num])\n",
    "    i = 0\n",
    "    print('Jaccard Recommend Article:')\n",
    "    recommendations =[]\n",
    "    for item in sorted_score:\n",
    " \n",
    "        print(data_train.iloc[data_train.index == item[0]])\n",
    "        article_id = data_train[data_train.index == item[0]][\"ArticleId\"].values[0] #getting the article title\n",
    "        category = data_train[data_train.index == item[0]][\"Category\"].values[0] #getting the article title\n",
    "        Text = data_train[data_train.index == item[0]][\"Text\"].values[0] #getting the article title\n",
    "       \n",
    "        recommendations.append([i+1,article_id, category]) \n",
    " \n",
    "        i = i + 1\n",
    "    return recommendations #returns the 5 nearest article titles"
   ]
  },
  {
   "cell_type": "markdown",
   "metadata": {},
   "source": [
    "## 7. Verify the Recommender  Result"
   ]
  },
  {
   "cell_type": "markdown",
   "metadata": {},
   "source": [
    "The BBC Article have 5 categories, to verify the recommand articles result on content base, we have to check if the  recommend articles are really similar or related to the original article.\n",
    "\n",
    "I think we can verify it from the following two items:\n",
    "\n",
    "    1. The recommend article should belong to the same category\n",
    "    2. The recommend article should discuss the same or similar topic, The BBC article dataset didn't provide us the title, we have to find the topic from content\n",
    "    \n",
    "So we will verify all five categories:\n",
    "\n",
    "    Business\n",
    "    Tech\n",
    "    entertainment\n",
    "    politics\n",
    "    sport\n",
    "    "
   ]
  },
  {
   "cell_type": "markdown",
   "metadata": {},
   "source": [
    "### 7.1 Verify Business Category"
   ]
  },
  {
   "cell_type": "code",
   "execution_count": 27,
   "metadata": {},
   "outputs": [
    {
     "name": "stdout",
     "output_type": "stream",
     "text": [
      "Current Article: ArticleId                                                 1833\n",
      "Text         worldcom exboss launches defence lawyers defen...\n",
      "Category                                              business\n",
      "Name: 0, dtype: object\n",
      "Cosine Recommend Article:\n",
      "     ArticleId                                               Text  Category\n",
      "878       1238  worldcom director ends evidence former chief f...  business\n",
      "      ArticleId                                               Text  Category\n",
      "1395       1413  worldcom director admits lying former chief fi...  business\n",
      "     ArticleId                                               Text  Category\n",
      "233          2  worldcom boss left books alone former worldcom...  business\n",
      "     ArticleId                                               Text  Category\n",
      "645       1143  ebbers denies worldcom fraud former worldcom c...  business\n",
      "     ArticleId                                               Text  Category\n",
      "381       1793  worldcom bosses 54m payout ten former director...  business\n",
      "Current Article: ArticleId                                                 1833\n",
      "Text         worldcom exboss launches defence lawyers defen...\n",
      "Category                                              business\n",
      "Name: 0, dtype: object\n",
      "Jaccard Recommend Article:\n",
      "     ArticleId                                               Text  Category\n",
      "878       1238  worldcom director ends evidence former chief f...  business\n",
      "      ArticleId                                               Text  Category\n",
      "1395       1413  worldcom director admits lying former chief fi...  business\n",
      "     ArticleId                                               Text  Category\n",
      "645       1143  ebbers denies worldcom fraud former worldcom c...  business\n",
      "     ArticleId                                               Text  Category\n",
      "233          2  worldcom boss left books alone former worldcom...  business\n",
      "     ArticleId                                               Text  Category\n",
      "646        758  qwest may spark mci bidding war us phone compa...  business\n"
     ]
    },
    {
     "data": {
      "text/plain": [
       "[[1, 1238, 'business'],\n",
       " [2, 1413, 'business'],\n",
       " [3, 1143, 'business'],\n",
       " [4, 2, 'business'],\n",
       " [5, 758, 'business']]"
      ]
     },
     "execution_count": 27,
     "metadata": {},
     "output_type": "execute_result"
    }
   ],
   "source": [
    "Neighbor_by_cosine(1833)\n",
    "Neighbor_by_jaccard(1833)"
   ]
  },
  {
   "cell_type": "markdown",
   "metadata": {},
   "source": [
    "### 7.2 Verify Tech Category"
   ]
  },
  {
   "cell_type": "code",
   "execution_count": 28,
   "metadata": {},
   "outputs": [
    {
     "name": "stdout",
     "output_type": "stream",
     "text": [
      "Current Article: ArticleId                                                 1976\n",
      "Text         lifestyle governs mobile choice faster better ...\n",
      "Category                                                  tech\n",
      "Name: 3, dtype: object\n",
      "Cosine Recommend Article:\n",
      "     ArticleId                                               Text Category\n",
      "435       2175  lifestyle governs mobile choice faster better ...     tech\n",
      "      ArticleId                                               Text Category\n",
      "1320        860  finding new homes old phones reusing old mobil...     tech\n",
      "     ArticleId                                               Text Category\n",
      "978       1755  home phones face unclear future fixed line pho...     tech\n",
      "     ArticleId                                               Text Category\n",
      "602       2030  friends fear lost mobiles people becoming depe...     tech\n",
      "      ArticleId                                               Text Category\n",
      "1105       1831  tough rules ringtone sellers firms flout rules...     tech\n",
      "Current Article: ArticleId                                                 1976\n",
      "Text         lifestyle governs mobile choice faster better ...\n",
      "Category                                                  tech\n",
      "Name: 3, dtype: object\n",
      "Jaccard Recommend Article:\n",
      "     ArticleId                                               Text Category\n",
      "435       2175  lifestyle governs mobile choice faster better ...     tech\n",
      "      ArticleId                                               Text Category\n",
      "1320        860  finding new homes old phones reusing old mobil...     tech\n",
      "     ArticleId                                               Text Category\n",
      "789       2009  half uk mobiles go online multimedia mobile ph...     tech\n",
      "      ArticleId                                               Text Category\n",
      "1059       1363  mobile multimedia slow catch doubt mobile phon...     tech\n",
      "     ArticleId                                               Text Category\n",
      "863       1428  gamers could drive highdefinition tv films gam...     tech\n"
     ]
    },
    {
     "data": {
      "text/plain": [
       "[[1, 2175, 'tech'],\n",
       " [2, 860, 'tech'],\n",
       " [3, 2009, 'tech'],\n",
       " [4, 1363, 'tech'],\n",
       " [5, 1428, 'tech']]"
      ]
     },
     "execution_count": 28,
     "metadata": {},
     "output_type": "execute_result"
    }
   ],
   "source": [
    "Neighbor_by_cosine(1976)\n",
    "Neighbor_by_jaccard(1976)"
   ]
  },
  {
   "cell_type": "markdown",
   "metadata": {},
   "source": [
    "### 7.3 Verify entertainment Category"
   ]
  },
  {
   "cell_type": "code",
   "execution_count": 29,
   "metadata": {},
   "outputs": [
    {
     "name": "stdout",
     "output_type": "stream",
     "text": [
      "Current Article: ArticleId                                                  177\n",
      "Text         carry star patsy rowlands dies actress patsy r...\n",
      "Category                                         entertainment\n",
      "Name: 21, dtype: object\n",
      "Cosine Recommend Article:\n",
      "     ArticleId                                               Text  \\\n",
      "270       1017  brookside actress keaveney dies actress anna k...   \n",
      "\n",
      "          Category  \n",
      "270  entertainment  \n",
      "      ArticleId                                               Text  \\\n",
      "1402       1421  hoffman hits modern film hollywood legend dust...   \n",
      "\n",
      "           Category  \n",
      "1402  entertainment  \n",
      "     ArticleId                                               Text  \\\n",
      "304       1141  film star fox behind theatre bid leading actor...   \n",
      "\n",
      "          Category  \n",
      "304  entertainment  \n",
      "     ArticleId                                               Text  \\\n",
      "312        962  stars shine bafta red carpet hollywood stars b...   \n",
      "\n",
      "          Category  \n",
      "312  entertainment  \n",
      "     ArticleId                                               Text  \\\n",
      "870       1491  farrell due make us tv debut actor colin farre...   \n",
      "\n",
      "          Category  \n",
      "870  entertainment  \n",
      "Current Article: ArticleId                                                  177\n",
      "Text         carry star patsy rowlands dies actress patsy r...\n",
      "Category                                         entertainment\n",
      "Name: 21, dtype: object\n",
      "Jaccard Recommend Article:\n",
      "     ArticleId                                               Text  \\\n",
      "270       1017  brookside actress keaveney dies actress anna k...   \n",
      "\n",
      "          Category  \n",
      "270  entertainment  \n",
      "     ArticleId                                               Text  \\\n",
      "815        301  stars pay tribute actor davis hollywood stars ...   \n",
      "\n",
      "          Category  \n",
      "815  entertainment  \n",
      "      ArticleId                                               Text  \\\n",
      "1070       1248  stars pay tribute actor davis hollywood stars ...   \n",
      "\n",
      "           Category  \n",
      "1070  entertainment  \n",
      "     ArticleId                                               Text  \\\n",
      "870       1491  farrell due make us tv debut actor colin farre...   \n",
      "\n",
      "          Category  \n",
      "870  entertainment  \n",
      "     ArticleId                                               Text  \\\n",
      "323        121  slater star broadway play actor christian slat...   \n",
      "\n",
      "          Category  \n",
      "323  entertainment  \n"
     ]
    },
    {
     "data": {
      "text/plain": [
       "[[1, 1017, 'entertainment'],\n",
       " [2, 301, 'entertainment'],\n",
       " [3, 1248, 'entertainment'],\n",
       " [4, 1491, 'entertainment'],\n",
       " [5, 121, 'entertainment']]"
      ]
     },
     "execution_count": 29,
     "metadata": {},
     "output_type": "execute_result"
    }
   ],
   "source": [
    " \n",
    "Neighbor_by_cosine(177)\n",
    "Neighbor_by_jaccard(177)"
   ]
  },
  {
   "cell_type": "markdown",
   "metadata": {},
   "source": [
    "### 7.4 Verify politics Category"
   ]
  },
  {
   "cell_type": "code",
   "execution_count": 30,
   "metadata": {},
   "outputs": [
    {
     "name": "stdout",
     "output_type": "stream",
     "text": [
      "Current Article: ArticleId                                                 2100\n",
      "Text         security papers found street inquiry way files...\n",
      "Category                                              politics\n",
      "Name: 33, dtype: object\n",
      "Cosine Recommend Article:\n",
      "     ArticleId                                               Text  Category\n",
      "480       1170  pakistani women must hide hiding women away ho...  politics\n",
      "    ArticleId                                               Text  Category\n",
      "67        947  tories outlining policing plans local communit...  politics\n",
      "      ArticleId                                               Text  Category\n",
      "1060       1978  row police power csos police federation said s...  politics\n",
      "     ArticleId                                               Text  Category\n",
      "768        701  blunkett unveils policing plans people could g...  politics\n",
      "      ArticleId                                               Text  Category\n",
      "1273        946  guantanamo four questioned four britons freed ...  politics\n",
      "Current Article: ArticleId                                                 2100\n",
      "Text         security papers found street inquiry way files...\n",
      "Category                                              politics\n",
      "Name: 33, dtype: object\n",
      "Jaccard Recommend Article:\n",
      "     ArticleId                                               Text  Category\n",
      "480       1170  pakistani women must hide hiding women away ho...  politics\n",
      "      ArticleId                                               Text  Category\n",
      "1365        609  probe launched ken nazi jibe investigation sta...  politics\n",
      "     ArticleId                                               Text  Category\n",
      "556        870  voters reject eu two one british voters would ...  politics\n",
      "      ArticleId                                               Text Category\n",
      "1104       1053  bush website blocked outside us surfers outsid...     tech\n",
      "      ArticleId                                               Text  Category\n",
      "1233        555  bnp leader nick griffin arrested leader britis...  politics\n"
     ]
    },
    {
     "data": {
      "text/plain": [
       "[[1, 1170, 'politics'],\n",
       " [2, 609, 'politics'],\n",
       " [3, 870, 'politics'],\n",
       " [4, 1053, 'tech'],\n",
       " [5, 555, 'politics']]"
      ]
     },
     "execution_count": 30,
     "metadata": {},
     "output_type": "execute_result"
    }
   ],
   "source": [
    "Neighbor_by_cosine(2100)\n",
    "Neighbor_by_jaccard(2100)"
   ]
  },
  {
   "cell_type": "markdown",
   "metadata": {},
   "source": [
    "### 7.5 Verify sport Category"
   ]
  },
  {
   "cell_type": "code",
   "execution_count": 31,
   "metadata": {},
   "outputs": [
    {
     "name": "stdout",
     "output_type": "stream",
     "text": [
      "Current Article: ArticleId                                                 1026\n",
      "Text         henman face saulnier test british number one t...\n",
      "Category                                                 sport\n",
      "Name: 27, dtype: object\n",
      "Cosine Recommend Article:\n",
      "     ArticleId                                               Text Category\n",
      "767        252  federer joins alltime greats last year seen on...    sport\n",
      "      ArticleId                                               Text Category\n",
      "1199       1403  davenport dismantles young rival top seed lind...    sport\n",
      "    ArticleId                                               Text Category\n",
      "17        486  hantuchova dubai last eight daniela hantuchova...    sport\n",
      "     ArticleId                                               Text Category\n",
      "709        361  henman murray claim lta awards tim henman name...    sport\n",
      "    ArticleId                                               Text Category\n",
      "22       1785  serena becomes world number two serena william...    sport\n",
      "Current Article: ArticleId                                                 1026\n",
      "Text         henman face saulnier test british number one t...\n",
      "Category                                                 sport\n",
      "Name: 27, dtype: object\n",
      "Jaccard Recommend Article:\n",
      "      ArticleId                                               Text Category\n",
      "1199       1403  davenport dismantles young rival top seed lind...    sport\n",
      "     ArticleId                                               Text Category\n",
      "767        252  federer joins alltime greats last year seen on...    sport\n",
      "    ArticleId                                               Text Category\n",
      "17        486  hantuchova dubai last eight daniela hantuchova...    sport\n",
      "     ArticleId                                               Text Category\n",
      "904        102  mauresmo opens victory la amelie mauresmo mari...    sport\n",
      "      ArticleId                                               Text Category\n",
      "1200       1538  classy henman makes winning start tim henman o...    sport\n"
     ]
    },
    {
     "data": {
      "text/plain": [
       "[[1, 1403, 'sport'],\n",
       " [2, 252, 'sport'],\n",
       " [3, 486, 'sport'],\n",
       " [4, 102, 'sport'],\n",
       " [5, 1538, 'sport']]"
      ]
     },
     "execution_count": 31,
     "metadata": {},
     "output_type": "execute_result"
    }
   ],
   "source": [
    "Neighbor_by_cosine(1026)\n",
    "Neighbor_by_jaccard(1026)"
   ]
  },
  {
   "cell_type": "markdown",
   "metadata": {},
   "source": [
    "## 8. Conclusion"
   ]
  },
  {
   "cell_type": "markdown",
   "metadata": {},
   "source": [
    "Recommend system works for using  unsuperivsor learning to get the content similar article\n",
    "\n",
    "Cosine Method is better than Jaccard distance Method"
   ]
  },
  {
   "cell_type": "code",
   "execution_count": null,
   "metadata": {},
   "outputs": [],
   "source": []
  }
 ],
 "metadata": {
  "kernelspec": {
   "display_name": "Python 3",
   "language": "python",
   "name": "python3"
  },
  "language_info": {
   "codemirror_mode": {
    "name": "ipython",
    "version": 3
   },
   "file_extension": ".py",
   "mimetype": "text/x-python",
   "name": "python",
   "nbconvert_exporter": "python",
   "pygments_lexer": "ipython3",
   "version": "3.8.5"
  }
 },
 "nbformat": 4,
 "nbformat_minor": 4
}
